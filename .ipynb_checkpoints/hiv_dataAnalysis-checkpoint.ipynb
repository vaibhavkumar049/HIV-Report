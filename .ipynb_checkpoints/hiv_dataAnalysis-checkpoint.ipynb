{
 "cells": [
  {
   "cell_type": "code",
   "execution_count": 1,
   "metadata": {},
   "outputs": [],
   "source": [
    "import pandas as pd"
   ]
  },
  {
   "cell_type": "code",
   "execution_count": 2,
   "metadata": {},
   "outputs": [],
   "source": [
    "import numpy as np\n",
    "import matplotlib.pyplot as plt"
   ]
  },
  {
   "cell_type": "code",
   "execution_count": 3,
   "metadata": {},
   "outputs": [],
   "source": [
    "file_path='/home/vaibhav/MyCode/hiv_data/hiv_data.csv'\n",
    "data=pd.read_csv(file_path)"
   ]
  },
  {
   "cell_type": "code",
   "execution_count": 4,
   "metadata": {},
   "outputs": [],
   "source": [
    "x=[]\n",
    "v=data.Meta.str.count('Nov 2018').sum()\n",
    "x.append(v)\n",
    "v=data.Meta.str.count('Oct 2018').sum()\n",
    "x.append(v)\n",
    "v=data.Meta.str.count('Sep 2018').sum()\n",
    "x.append(v)\n",
    "v=data.Meta.str.count('Aug 2018').sum()\n",
    "x.append(v)\n",
    "v=data.Meta.str.count('Jul 2018').sum()\n",
    "x.append(v)\n",
    "v=data.Meta.str.count('Jun 2018').sum()\n",
    "x.append(v)\n",
    "v=data.Meta.str.count('May 2018').sum()\n",
    "x.append(v)\n",
    "v=data.Meta.str.count('Apr 2018').sum()\n",
    "x.append(v)\n",
    "v=data.Meta.str.count('Mar 2018').sum()\n",
    "x.append(v)\n",
    "v=data.Meta.str.count('Feb 2018').sum()\n",
    "x.append(v)\n",
    "v=data.Meta.str.count('Jan 2018').sum()\n",
    "x.append(v)\n",
    "v=data.Meta.str.count('Dec 2017').sum()\n",
    "x.append(v)\n",
    "v=data.Meta.str.count('Nov 2017').sum()\n",
    "x.append(v)\n",
    "v=data.Meta.str.count('Oct 2017').sum()\n",
    "x.append(v)\n",
    "v=data.Meta.str.count('Sep 2017').sum()\n",
    "x.append(v)\n",
    "v=data.Meta.str.count('Aug 2017').sum()\n",
    "x.append(v)\n",
    "v=data.Meta.str.count('Jul 2017').sum()\n",
    "x.append(v)\n",
    "v=data.Meta.str.count('Jun 2017').sum()\n",
    "x.append(v)\n",
    "v=data.Meta.str.count('May 2017').sum()\n",
    "x.append(v)\n",
    "v=data.Meta.str.count('Apr 2017').sum()\n",
    "x.append(v)\n",
    "v=data.Meta.str.count('Mar 2017').sum()\n",
    "x.append(v)\n",
    "v=data.Meta.str.count('Feb 2017').sum()\n",
    "x.append(v)\n",
    "v=data.Meta.str.count('Jan 2017').sum()\n",
    "x.append(v)"
   ]
  },
  {
   "cell_type": "code",
   "execution_count": 5,
   "metadata": {},
   "outputs": [
    {
     "data": {
      "text/plain": [
       "[6, 24, 44, 7, 25, 9, 4, 9, 11, 34, 14, 29, 18, 5, 2, 3, 1, 2, 3, 1, 1, 6, 0]"
      ]
     },
     "execution_count": 5,
     "metadata": {},
     "output_type": "execute_result"
    }
   ],
   "source": [
    "x"
   ]
  },
  {
   "cell_type": "code",
   "execution_count": 6,
   "metadata": {},
   "outputs": [],
   "source": [
    "x_axis=['Nov 2018','Oct 2018','Sep 2018','Aug 2018','Jul 2018','Jun 2018','May 2018','Apr 2018','Mar 2018','Feb 2018','Jan 2018','Dec 2017','Nov 2017','Oct 2017','Sep 2017','Aug 2017','Jul 2017','Jun 2017','May 2017','Apr 2017','Mar 2017','Feb 2017','Jan 2017']"
   ]
  },
  {
   "cell_type": "code",
   "execution_count": 7,
   "metadata": {},
   "outputs": [],
   "source": [
    "# x_axis=x_axis.reverse()\n",
    "# y_axis=x\n",
    "# y_axis\n",
    "x_axis.reverse()"
   ]
  },
  {
   "cell_type": "code",
   "execution_count": 8,
   "metadata": {},
   "outputs": [
    {
     "data": {
      "text/plain": [
       "['Jan 2017',\n",
       " 'Feb 2017',\n",
       " 'Mar 2017',\n",
       " 'Apr 2017',\n",
       " 'May 2017',\n",
       " 'Jun 2017',\n",
       " 'Jul 2017',\n",
       " 'Aug 2017',\n",
       " 'Sep 2017',\n",
       " 'Oct 2017',\n",
       " 'Nov 2017',\n",
       " 'Dec 2017',\n",
       " 'Jan 2018',\n",
       " 'Feb 2018',\n",
       " 'Mar 2018',\n",
       " 'Apr 2018',\n",
       " 'May 2018',\n",
       " 'Jun 2018',\n",
       " 'Jul 2018',\n",
       " 'Aug 2018',\n",
       " 'Sep 2018',\n",
       " 'Oct 2018',\n",
       " 'Nov 2018']"
      ]
     },
     "execution_count": 8,
     "metadata": {},
     "output_type": "execute_result"
    }
   ],
   "source": [
    "x_axis\n",
    "# len(x_axis)"
   ]
  },
  {
   "cell_type": "code",
   "execution_count": 9,
   "metadata": {},
   "outputs": [
    {
     "data": {
      "text/plain": [
       "[6, 24, 44, 7, 25, 9, 4, 9, 11, 34, 14, 29, 18, 5, 2, 3, 1, 2, 3, 1, 1, 6, 0]"
      ]
     },
     "execution_count": 9,
     "metadata": {},
     "output_type": "execute_result"
    }
   ],
   "source": [
    "y_axis=x\n",
    "y_axis"
   ]
  },
  {
   "cell_type": "code",
   "execution_count": 10,
   "metadata": {},
   "outputs": [
    {
     "data": {
      "text/plain": [
       "[0, 6, 1, 1, 3, 2, 1, 3, 2, 5, 18, 29, 14, 34, 11, 9, 4, 9, 25, 7, 44, 24, 6]"
      ]
     },
     "execution_count": 10,
     "metadata": {},
     "output_type": "execute_result"
    }
   ],
   "source": [
    "y_axis.reverse()\n",
    "y_axis"
   ]
  },
  {
   "cell_type": "code",
   "execution_count": 11,
   "metadata": {},
   "outputs": [
    {
     "data": {
      "text/plain": [
       "array([ 0,  1,  2,  3,  4,  5,  6,  7,  8,  9, 10, 11, 12, 13, 14, 15, 16,\n",
       "       17, 18, 19, 20, 21, 22])"
      ]
     },
     "execution_count": 11,
     "metadata": {},
     "output_type": "execute_result"
    }
   ],
   "source": [
    "ind=np.arange(len(x_axis))\n",
    "ind"
   ]
  },
  {
   "cell_type": "code",
   "execution_count": 15,
   "metadata": {},
   "outputs": [
    {
     "data": {
      "text/plain": [
       "[<matplotlib.lines.Line2D at 0x7febab994dd8>]"
      ]
     },
     "execution_count": 15,
     "metadata": {},
     "output_type": "execute_result"
    },
    {
     "data": {
      "image/png": "[encoded data removed]",
      "text/plain": [
       "<Figure size 432x288 with 1 Axes>"
      ]
     },
     "metadata": {},
     "output_type": "display_data"
    }
   ],
   "source": [
    "plt.xticks([0,22],['Jan 2017','Nov 2018'])\n",
    "plt.plot(ind,y_axis)"
   ]
  },
  {
   "cell_type": "code",
   "execution_count": 13,
   "metadata": {},
   "outputs": [
    {
     "data": {
      "text/plain": [
       "([<matplotlib.axis.XTick at 0x7febaba0def0>,\n",
       "  <matplotlib.axis.XTick at 0x7febaba01400>],\n",
       " <a list of 2 Text xticklabel objects>)"
      ]
     },
     "execution_count": 13,
     "metadata": {},
     "output_type": "execute_result"
    },
    {
     "data": {
      "image/png": "[encoded data removed]",
      "text/plain": [
       "<Figure size 432x288 with 1 Axes>"
      ]
     },
     "metadata": {},
     "output_type": "display_data"
    }
   ],
   "source": [
    "plt.xticks([0,23],['Jan 2017','Nov 2018'])"
   ]
  },
  {
   "cell_type": "code",
   "execution_count": null,
   "metadata": {},
   "outputs": [],
   "source": []
  },
  {
   "cell_type": "code",
   "execution_count": null,
   "metadata": {},
   "outputs": [],
   "source": []
  },
  {
   "cell_type": "code",
   "execution_count": null,
   "metadata": {},
   "outputs": [],
   "source": []
  },
  {
   "cell_type": "code",
   "execution_count": null,
   "metadata": {},
   "outputs": [],
   "source": []
  },
  {
   "cell_type": "code",
   "execution_count": null,
   "metadata": {},
   "outputs": [],
   "source": []
  },
  {
   "cell_type": "code",
   "execution_count": null,
   "metadata": {},
   "outputs": [],
   "source": []
  },
  {
   "cell_type": "code",
   "execution_count": null,
   "metadata": {},
   "outputs": [],
   "source": []
  },
  {
   "cell_type": "code",
   "execution_count": null,
   "metadata": {},
   "outputs": [],
   "source": []
  },
  {
   "cell_type": "code",
   "execution_count": null,
   "metadata": {},
   "outputs": [],
   "source": []
  },
  {
   "cell_type": "code",
   "execution_count": null,
   "metadata": {},
   "outputs": [],
   "source": []
  },
  {
   "cell_type": "code",
   "execution_count": null,
   "metadata": {},
   "outputs": [],
   "source": []
  },
  {
   "cell_type": "code",
   "execution_count": null,
   "metadata": {},
   "outputs": [],
   "source": []
  },
  {
   "cell_type": "code",
   "execution_count": null,
   "metadata": {},
   "outputs": [],
   "source": []
  },
  {
   "cell_type": "code",
   "execution_count": null,
   "metadata": {},
   "outputs": [],
   "source": []
  },
  {
   "cell_type": "code",
   "execution_count": null,
   "metadata": {},
   "outputs": [],
   "source": []
  },
  {
   "cell_type": "code",
   "execution_count": null,
   "metadata": {},
   "outputs": [],
   "source": []
  },
  {
   "cell_type": "code",
   "execution_count": null,
   "metadata": {},
   "outputs": [],
   "source": []
  }
 ],
 "metadata": {
  "kernelspec": {
   "display_name": "Python 3",
   "language": "python",
   "name": "python3"
  },
  "language_info": {
   "codemirror_mode": {
    "name": "ipython",
    "version": 3
   },
   "file_extension": ".py",
   "mimetype": "text/x-python",
   "name": "python",
   "nbconvert_exporter": "python",
   "pygments_lexer": "ipython3",
   "version": "3.6.7"
  }
 },
 "nbformat": 4,
 "nbformat_minor": 2
}
